{
 "cells": [
  {
   "cell_type": "markdown",
   "id": "8ec229eb-ff34-4b3c-802a-f7807cdde502",
   "metadata": {},
   "source": [
    "# WebAssembly-based wheel for JupyterLite/Pyodide"
   ]
  },
  {
   "cell_type": "markdown",
   "id": "6614141c-41be-47c9-9788-8a82711d0228",
   "metadata": {},
   "source": [
    "WebAssembly-based wheel is deployed in GitHub Pages, and `micropip.install` can install it from URL"
   ]
  },
  {
   "cell_type": "code",
   "execution_count": null,
   "id": "de13bb33-862c-4f9d-a47b-2c8c388e697f",
   "metadata": {},
   "outputs": [],
   "source": [
    "rust_url = \"https://termoshtt.github.io/pyodide-wasm-wheel-example/rust_extension-0.1.0-cp311-cp311-emscripten_3_1_45_wasm32.whl\"\n",
    "c_url = \"https://termoshtt.github.io/pyodide-wasm-wheel-example/pyodide_wasm_wheel_example-0.0.0-cp311-cp311-emscripten_3_1_45_wasm32.whl\"\n",
    "\n",
    "import micropip\n",
    "await micropip.install([c_url, rust_url])"
   ]
  },
  {
   "cell_type": "markdown",
   "id": "4edb21ae-b689-46ab-8e7a-0c60cdde9d0f",
   "metadata": {},
   "source": [
    "## C extension test"
   ]
  },
  {
   "cell_type": "code",
   "execution_count": null,
   "id": "0c277e52-fcb1-49e4-83e3-92927cb06211",
   "metadata": {},
   "outputs": [],
   "source": [
    "import pyodide_wasm_wheel_example\n",
    "pyodide_wasm_wheel_example.f()"
   ]
  },
  {
   "cell_type": "markdown",
   "id": "5e6cb780-3f05-4a77-a0ae-197579e9e1ee",
   "metadata": {},
   "source": [
    "## Rust extension test"
   ]
  },
  {
   "cell_type": "code",
   "execution_count": null,
   "id": "120df94e-487f-4363-805c-0805f2301548",
   "metadata": {},
   "outputs": [],
   "source": [
    "import rust_extension\n",
    "rust_extension.sum_as_string(1, 2)"
   ]
  }
 ],
 "metadata": {
  "kernelspec": {
   "display_name": "Python 3 (ipykernel)",
   "language": "python",
   "name": "python3"
  },
  "language_info": {
   "codemirror_mode": {
    "name": "ipython",
    "version": 3
   },
   "file_extension": ".py",
   "mimetype": "text/x-python",
   "name": "python",
   "nbconvert_exporter": "python",
   "pygments_lexer": "ipython3",
   "version": "3.11.4"
  }
 },
 "nbformat": 4,
 "nbformat_minor": 5
}
