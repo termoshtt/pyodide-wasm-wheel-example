{
  "metadata": {
    "kernelspec": {
      "name": "python",
      "display_name": "Python (Pyodide)",
      "language": "python"
    },
    "language_info": {
      "codemirror_mode": {
        "name": "python",
        "version": 3
      },
      "file_extension": ".py",
      "mimetype": "text/x-python",
      "name": "python",
      "nbconvert_exporter": "python",
      "pygments_lexer": "ipython3",
      "version": "3.8"
    }
  },
  "nbformat_minor": 5,
  "nbformat": 4,
  "cells": [
    {
      "id": "8ec229eb-ff34-4b3c-802a-f7807cdde502",
      "cell_type": "markdown",
      "source": "# WebAssembly-based wheel for JupyterLite/Pyodide",
      "metadata": {}
    },
    {
      "id": "6614141c-41be-47c9-9788-8a82711d0228",
      "cell_type": "markdown",
      "source": "WebAssembly-based wheel is deployed in GitHub Pages, and `micropip.install` can install it from URL",
      "metadata": {}
    },
    {
      "id": "45e61b4c-b1fc-4465-8789-8f40c99c9bcd",
      "cell_type": "code",
      "source": "import micropip\nawait micropip.install(\"https://termoshtt.github.io/pyodide-wasm-wheel-example/pyodide_wasm_wheel_example-0.0.0-cp311-cp311-emscripten_3_1_45_wasm32.whl\")",
      "metadata": {
        "trusted": true
      },
      "outputs": [],
      "execution_count": null
    },
    {
      "id": "c9274f14-5126-406c-abad-88afb05b8507",
      "cell_type": "code",
      "source": "import pyodide_wasm_wheel_example\npyodide_wasm_wheel_example.f()",
      "metadata": {
        "trusted": true
      },
      "outputs": [],
      "execution_count": null
    }
  ]
}